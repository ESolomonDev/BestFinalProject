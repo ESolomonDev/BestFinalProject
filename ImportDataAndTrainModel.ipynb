{
 "cells": [
  {
   "cell_type": "code",
   "execution_count": 10,
   "id": "80e02682",
   "metadata": {},
   "outputs": [],
   "source": [
    "import pyodbc\n",
    "import pandas as pd\n",
    "import Resources.config as cf\n",
    "from sklearn.model_selection import train_test_split\n",
    "\n",
    "#Possible Model Types\n",
    "from sklearn.linear_model import LogisticRegression\n",
    "from sklearn.ensemble import RandomForestClassifier\n",
    "from sklearn.ensemble import GradientBoostingClassifier\n",
    "from sklearn.tree import DecisionTreeClassifier\n",
    "from sklearn.svm import SVC\n",
    "from sklearn.neighbors import KNeighborsClassifier\n",
    "\n",
    "#Visualizations\n",
    "import seaborn as sns\n",
    "import matplotlib.pyplot as plt\n",
    "\n",
    "server = 'weatherdata.database.windows.net' \n",
    "database = 'weather' \n",
    "username = cf.username\n",
    "password = cf.password \n",
    "cnxn = pyodbc.connect('DRIVER={SQL Server};SERVER='+server+';DATABASE='+database+';UID='+username+';PWD='+ password)\n"
   ]
  },
  {
   "cell_type": "code",
   "execution_count": 11,
   "id": "ebd139b2",
   "metadata": {},
   "outputs": [],
   "source": [
    "#Import data into dataframes\n",
    "\n",
    "#city_attributes\n",
    "query1 = \"SELECT [City],[Country],[Latitude],[Longitude] from [weather].[dbo].[city_attributes];\"\n",
    "df_city_attributes = pd.read_sql(query1, cnxn)\n",
    "\n",
    "#humidity\n",
    "query2 = \"select [datetime],Vancouver,Portland,San_Francisco,Seattle,Los_Angeles,San_Diego,Las_Vegas,Phoenix,Albuquerque,Denver,\\\n",
    "San_Antonio,Dallas,Houston,Kansas_City,Minneapolis,Saint_Louis,Chicago,Nashville,Indianapolis,Atlanta,Detroit,Jacksonville,\\\n",
    "Charlotte,Miami,Pittsburgh,Toronto,Philadelphia,New_York,Montreal,Boston,Beersheba,Tel_Aviv_District,Eilat,Haifa,Nahariyya,\\\n",
    "Jerusalem from [weather].[dbo].humidity;\"\n",
    "df_humidity = pd.read_sql(query2, cnxn)\n",
    "\n",
    "#pressure\n",
    "query3 = \"select [datetime],Vancouver,Portland,San_Francisco,Seattle,Los_Angeles,San_Diego,Las_Vegas,Phoenix,Albuquerque,Denver,\\\n",
    "San_Antonio,Dallas,Houston,Kansas_City,Minneapolis,Saint_Louis,Chicago,Nashville,Indianapolis,Atlanta,Detroit,Jacksonville,\\\n",
    "Charlotte,Miami,Pittsburgh,Toronto,Philadelphia,New_York,Montreal,Boston,Beersheba,Tel_Aviv_District,Eilat,Haifa,Nahariyya,\\\n",
    "Jerusalem from [weather].[dbo].pressure;\"\n",
    "df_pressure = pd.read_sql(query3, cnxn)\n",
    "\n",
    "#temperature\n",
    "query4 = \"select [datetime],Vancouver,Portland,San_Francisco,Seattle,Los_Angeles,San_Diego,Las_Vegas,Phoenix,Albuquerque,Denver,\\\n",
    "San_Antonio,Dallas,Houston,Kansas_City,Minneapolis,Saint_Louis,Chicago,Nashville,Indianapolis,Atlanta,Detroit,Jacksonville,\\\n",
    "Charlotte,Miami,Pittsburgh,Toronto,Philadelphia,New_York,Montreal,Boston,Beersheba,Tel_Aviv_District,Eilat,Haifa,Nahariyya,\\\n",
    "Jerusalem from [weather].[dbo].temperature;\"\n",
    "df_temperature = pd.read_sql(query4, cnxn)\n",
    "\n",
    "#weather_description\n",
    "query5 = \"select [datetime],Vancouver,Portland,San_Francisco,Seattle,Los_Angeles,San_Diego,Las_Vegas,Phoenix,Albuquerque,Denver,\\\n",
    "San_Antonio,Dallas,Houston,Kansas_City,Minneapolis,Saint_Louis,Chicago,Nashville,Indianapolis,Atlanta,Detroit,Jacksonville,\\\n",
    "Charlotte,Miami,Pittsburgh,Toronto,Philadelphia,New_York,Montreal,Boston,Beersheba,Tel_Aviv_District,Eilat,Haifa,Nahariyya,\\\n",
    "Jerusalem from [weather].[dbo].weather_description;\"\n",
    "df_weather_description = pd.read_sql(query5, cnxn)\n",
    "\n",
    "#wind_direction\n",
    "query6 = \"select [datetime],Vancouver,Portland,San_Francisco,Seattle,Los_Angeles,San_Diego,Las_Vegas,Phoenix,Albuquerque,Denver,\\\n",
    "San_Antonio,Dallas,Houston,Kansas_City,Minneapolis,Saint_Louis,Chicago,Nashville,Indianapolis,Atlanta,Detroit,Jacksonville,\\\n",
    "Charlotte,Miami,Pittsburgh,Toronto,Philadelphia,New_York,Montreal,Boston,Beersheba,Tel_Aviv_District,Eilat,Haifa,Nahariyya,\\\n",
    "Jerusalem from [weather].[dbo].wind_direction;\"\n",
    "df_wind_direction = pd.read_sql(query6, cnxn)\n",
    "\n",
    "#wind_speed\n",
    "query7 = \"select [datetime],Vancouver,Portland,San_Francisco,Seattle,Los_Angeles,San_Diego,Las_Vegas,Phoenix,Albuquerque,Denver,\\\n",
    "San_Antonio,Dallas,Houston,Kansas_City,Minneapolis,Saint_Louis,Chicago,Nashville,Indianapolis,Atlanta,Detroit,Jacksonville,\\\n",
    "Charlotte,Miami,Pittsburgh,Toronto,Philadelphia,New_York,Montreal,Boston,Beersheba,Tel_Aviv_District,Eilat,Haifa,Nahariyya,\\\n",
    "Jerusalem from [weather].[dbo].wind_speed;\"\n",
    "df_wind_speed = pd.read_sql(query7, cnxn)"
   ]
  },
  {
   "cell_type": "code",
   "execution_count": 12,
   "id": "7e1ce3ca",
   "metadata": {},
   "outputs": [
    {
     "data": {
      "text/html": [
       "<div>\n",
       "<style scoped>\n",
       "    .dataframe tbody tr th:only-of-type {\n",
       "        vertical-align: middle;\n",
       "    }\n",
       "\n",
       "    .dataframe tbody tr th {\n",
       "        vertical-align: top;\n",
       "    }\n",
       "\n",
       "    .dataframe thead th {\n",
       "        text-align: right;\n",
       "    }\n",
       "</style>\n",
       "<table border=\"1\" class=\"dataframe\">\n",
       "  <thead>\n",
       "    <tr style=\"text-align: right;\">\n",
       "      <th></th>\n",
       "      <th>City</th>\n",
       "      <th>Country</th>\n",
       "      <th>Latitude</th>\n",
       "      <th>Longitude</th>\n",
       "    </tr>\n",
       "  </thead>\n",
       "  <tbody>\n",
       "    <tr>\n",
       "      <th>0</th>\n",
       "      <td>Vancouver</td>\n",
       "      <td>Canada</td>\n",
       "      <td>49.249660</td>\n",
       "      <td>-123.119339</td>\n",
       "    </tr>\n",
       "    <tr>\n",
       "      <th>1</th>\n",
       "      <td>Portland</td>\n",
       "      <td>United States</td>\n",
       "      <td>45.523449</td>\n",
       "      <td>-122.676208</td>\n",
       "    </tr>\n",
       "    <tr>\n",
       "      <th>2</th>\n",
       "      <td>San Francisco</td>\n",
       "      <td>United States</td>\n",
       "      <td>37.774929</td>\n",
       "      <td>-122.419418</td>\n",
       "    </tr>\n",
       "    <tr>\n",
       "      <th>3</th>\n",
       "      <td>Seattle</td>\n",
       "      <td>United States</td>\n",
       "      <td>47.606209</td>\n",
       "      <td>-122.332069</td>\n",
       "    </tr>\n",
       "    <tr>\n",
       "      <th>4</th>\n",
       "      <td>Los Angeles</td>\n",
       "      <td>United States</td>\n",
       "      <td>34.052231</td>\n",
       "      <td>-118.243683</td>\n",
       "    </tr>\n",
       "  </tbody>\n",
       "</table>\n",
       "</div>"
      ],
      "text/plain": [
       "            City        Country   Latitude   Longitude\n",
       "0      Vancouver         Canada  49.249660 -123.119339\n",
       "1       Portland  United States  45.523449 -122.676208\n",
       "2  San Francisco  United States  37.774929 -122.419418\n",
       "3        Seattle  United States  47.606209 -122.332069\n",
       "4    Los Angeles  United States  34.052231 -118.243683"
      ]
     },
     "execution_count": 12,
     "metadata": {},
     "output_type": "execute_result"
    }
   ],
   "source": [
    "df_city_attributes.head()"
   ]
  },
  {
   "cell_type": "code",
   "execution_count": null,
   "id": "4411f229",
   "metadata": {},
   "outputs": [],
   "source": [
    "#Data exploration, use matplotlib or seaborn"
   ]
  },
  {
   "cell_type": "code",
   "execution_count": null,
   "id": "811f4e48",
   "metadata": {},
   "outputs": [],
   "source": [
    "#Data cleansing if needed, create functions"
   ]
  },
  {
   "cell_type": "code",
   "execution_count": null,
   "id": "c5db47cf",
   "metadata": {},
   "outputs": [],
   "source": [
    "#Train Test/Split\n",
    "#x_train,x_test,y_train,y_test = train_test_split(X,y,test_size = 0.3)"
   ]
  },
  {
   "cell_type": "code",
   "execution_count": 14,
   "id": "4404b984",
   "metadata": {},
   "outputs": [
    {
     "data": {
      "text/plain": [
       "'\\nlr = LogisticRegression()\\nrf = RandomForestClassifier(bootstrap=False)\\ngbc = GradientBoostingClassifier()\\ndt = DecisionTreeClassifier()\\nsvc = SVC()\\nknn= KNeighborsClassifier()\\n'"
      ]
     },
     "execution_count": 14,
     "metadata": {},
     "output_type": "execute_result"
    }
   ],
   "source": [
    "#Choose Model Type, maybe for extra credit use neural network possibly Keras keras functional or sequential\n",
    "\n",
    "# lr = LogisticRegression()\n",
    "# rf = RandomForestClassifier(bootstrap=False)\n",
    "# gbc = GradientBoostingClassifier()\n",
    "# dt = DecisionTreeClassifier()\n",
    "# svc = SVC()\n",
    "# knn= KNeighborsClassifier()\n"
   ]
  },
  {
   "cell_type": "code",
   "execution_count": null,
   "id": "a102cb4c",
   "metadata": {},
   "outputs": [],
   "source": [
    "#Train Model\n",
    "# lr.fit(x_train,y_train)\n",
    "# rf.fit(x_train,y_train)\n",
    "# gbc.fit(x_train,y_train)\n",
    "# dt.fit(x_train,y_train)\n",
    "# svc.fit(x_train, y_train)\n",
    "# knn.fit(x_train, y_train)"
   ]
  },
  {
   "cell_type": "code",
   "execution_count": null,
   "id": "27158cb3",
   "metadata": {},
   "outputs": [],
   "source": [
    "#Train Model\n"
   ]
  },
  {
   "cell_type": "code",
   "execution_count": null,
   "id": "9866e3b1",
   "metadata": {},
   "outputs": [],
   "source": [
    "#Check Accuracy and loss"
   ]
  },
  {
   "cell_type": "code",
   "execution_count": null,
   "id": "0671cade",
   "metadata": {},
   "outputs": [],
   "source": [
    "#Inference test data"
   ]
  },
  {
   "cell_type": "code",
   "execution_count": null,
   "id": "c1c1baa9",
   "metadata": {},
   "outputs": [],
   "source": [
    "#Save Model and pickle the data"
   ]
  },
  {
   "cell_type": "code",
   "execution_count": null,
   "id": "93b86c81",
   "metadata": {},
   "outputs": [],
   "source": [
    "#Export Data back to SQL Server"
   ]
  }
 ],
 "metadata": {
  "kernelspec": {
   "display_name": "mlenv",
   "language": "python",
   "name": "mlenv"
  },
  "language_info": {
   "codemirror_mode": {
    "name": "ipython",
    "version": 3
   },
   "file_extension": ".py",
   "mimetype": "text/x-python",
   "name": "python",
   "nbconvert_exporter": "python",
   "pygments_lexer": "ipython3",
   "version": "3.7.11"
  }
 },
 "nbformat": 4,
 "nbformat_minor": 5
}
